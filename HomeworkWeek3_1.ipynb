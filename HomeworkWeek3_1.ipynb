{
 "cells": [
  {
   "cell_type": "markdown",
   "metadata": {},
   "source": [
    "## Dairenin alanı uygulaması\n",
    "\n",
    "- Dairenin_alanı adında bir fonksiyon oluşturunuz.\n",
    "\n",
    "- Kullanıcıdan pi ve yarıçap bilgilerini  isteyiniz.\n",
    "\n",
    "- Daha sonra alan hesabını yapınız.\n",
    "\n",
    "\n",
    "\n",
    "EK BİLGİ: Dairenin alan formülü= pi * (yarıçap* * 2)\n"
   ]
  },
  {
   "cell_type": "code",
   "execution_count": 24,
   "metadata": {},
   "outputs": [
    {
     "name": "stdout",
     "output_type": "stream",
     "text": [
      "Yarıçapı Gir :3\n",
      "Pi Değerini Gir :3.14\n",
      "Dairenin Alanı : 28.26\n"
     ]
    },
    {
     "data": {
      "text/plain": [
       "28.26"
      ]
     },
     "execution_count": 24,
     "metadata": {},
     "output_type": "execute_result"
    }
   ],
   "source": [
    "def Dairenin_alanı(yaricap,pi):\n",
    "    alan =  float(yaricap) * float(yaricap) * float(pi)\n",
    "    print (\"Dairenin Alanı :\",alan)\n",
    "    return alan\n",
    " \n",
    "yaricap = input(\"Yarıçapı Gir :\")\n",
    "pi= input(\"Pi Değerini Gir :\")\n",
    "\n",
    "Dairenin_alanı(yaricap,pi)\n",
    " "
   ]
  },
  {
   "cell_type": "markdown",
   "metadata": {},
   "source": [
    "## Faktoriyel uygulaması\n",
    "\n",
    "- Faktoriyel adında fonksiyon oluşturunuz.\n",
    "\n",
    "- Döngü kullanarak paremetre olarak girilen sayının faktoriyelini hesaplayınız.\n",
    "\n",
    "- Format metodunu kullanarak ekrana yazdırınız.\n",
    "\n"
   ]
  },
  {
   "cell_type": "code",
   "execution_count": 17,
   "metadata": {},
   "outputs": [
    {
     "name": "stdout",
     "output_type": "stream",
     "text": [
      "Lütfen faktöriyelini bulmak istediğiniz sayıyı giriniz: 5\n",
      "Girilen 5 sayısının faktöriyeli: 120\n"
     ]
    }
   ],
   "source": [
    "def calculationFactorial ():\n",
    "  \n",
    "  number = int (input(\"Lütfen faktöriyelini bulmak istediğiniz sayıyı giriniz: \"))\n",
    "  factorial = 1\n",
    "  \n",
    "  if number >= 0:\n",
    "    for i in range (1, number+1): #range varsayılan olarak 0'dan başlar ve son değeri kapsamaz\n",
    "      factorial = factorial*i\n",
    "    print(\"Girilen {} sayısının faktöriyeli: {}\".format(i,factorial))\n",
    "\n",
    "calculationFactorial ()"
   ]
  },
  {
   "cell_type": "markdown",
   "metadata": {},
   "source": [
    "## Class Uygulaması\n",
    "- Bir Personel classı oluşturunuz.\n",
    "- Attributes: id, isim, soyisim, doğum yılı, departman, haftada kaç saat çalıştığı, saatlik ücret\n",
    "- Attributleri print ve formatlama ile ekrana yazdırılız.\n",
    "\n",
    "! Örnek Formatlama: print(f'd1 : alan = {d1.alan_hesapla()} çevre = {d1.cevre_hesapla()}') "
   ]
  },
  {
   "cell_type": "code",
   "execution_count": 28,
   "metadata": {},
   "outputs": [
    {
     "name": "stdout",
     "output_type": "stream",
     "text": [
      "******Personel Bilgileri******\n",
      "id: 4512487936\n",
      "İsim: Gamze\n",
      "Soyisim: Çelik\n",
      "Doğum yılı: 2001\n",
      "Departman: Data Engineer\n",
      "Haftalık çalışma saati: 40\n",
      "Saatlik ücret: 200\n"
     ]
    }
   ],
   "source": [
    "class Personel:\n",
    "    def __init__(self, id, isim, soyisim, dogum_yili, departman, calisma_saati, saatlik_ucret):\n",
    "        self.id = id\n",
    "        self.isim = isim\n",
    "        self.soyisim = soyisim\n",
    "        self.dogum_yili = dogum_yili\n",
    "        self.departman = departman\n",
    "        self.calisma_saati = calisma_saati\n",
    "        self.saatlik_ucret = saatlik_ucret\n",
    "        \n",
    "    def bilgileri_goster(self):\n",
    "        print(\"******Personel Bilgileri******\")\n",
    "        print(f'id: {self.id}')\n",
    "        print(f'İsim: {self.isim}')\n",
    "        print(f'Soyisim: {self.soyisim}')\n",
    "        print(f'Doğum yılı: {self.dogum_yili}')\n",
    "        print(f'Departman: {self.departman}')\n",
    "        print(f'Haftalık çalışma saati: {self.calisma_saati}')\n",
    "        print(f'Saatlik ücret: {self.saatlik_ucret}')\n",
    "           \n",
    "personel = Personel(4512487936, \"Gamze\", \"Çelik\", 2001, \"Data Engineer\", 40, 200)\n",
    "personel.bilgileri_goster()"
   ]
  },
  {
   "cell_type": "markdown",
   "metadata": {},
   "source": [
    "## Class Metotları\n",
    "\n",
    "- Personel classına aşağıdaki metotları ekleyiniz.\n",
    "\t- Yaş hesaplama: Güncel yıl - doğum yılı\n",
    "    - Maaş hesaplama: çalıştığı saat * saatlik ücret\n",
    "- Metot çıktılarını attributler ile birlikte format kullanarak gösteriniz."
   ]
  },
  {
   "cell_type": "code",
   "execution_count": 31,
   "metadata": {},
   "outputs": [
    {
     "name": "stdout",
     "output_type": "stream",
     "text": [
      "******Personel Bilgileri******\n",
      "id: 4512487936\n",
      "İsim: Gamze\n",
      "Soyisim: Çelik\n",
      "Doğum yılı: 2001\n",
      "Departman: Data Engineer\n",
      "Haftalık çalışma saati: 40\n",
      "Saatlik ücret: 250\n",
      "Yaş: 22\n",
      "Maaş: 10000\n"
     ]
    }
   ],
   "source": [
    "class Personel:\n",
    "    \n",
    "    def __init__(self, id, isim, soyisim, dogum_yili, departman, calisma_saati, saatlik_ucret):\n",
    "        self.id = id\n",
    "        self.isim = isim\n",
    "        self.soyisim = soyisim\n",
    "        self.dogum_yili = dogum_yili\n",
    "        self.departman = departman\n",
    "        self.calisma_saati = calisma_saati\n",
    "        self.saatlik_ucret = saatlik_ucret\n",
    "        \n",
    "    def yas_hesaplama(self, guncel_yil):\n",
    "        yas = guncel_yil - self.dogum_yili\n",
    "        return yas\n",
    "        \n",
    "    def maas_hesaplama(self):\n",
    "        maas = self.calisma_saati * self.saatlik_ucret\n",
    "        return maas\n",
    "    \n",
    "    def bilgileri_goster(self):\n",
    "        print(\"******Personel Bilgileri******\")\n",
    "        print(f'id: {self.id}')\n",
    "        print(f'İsim: {self.isim}')\n",
    "        print(f'Soyisim: {self.soyisim}')\n",
    "        print(f'Doğum yılı: {self.dogum_yili}')\n",
    "        print(f'Departman: {self.departman}')\n",
    "        print(f'Haftalık çalışma saati: {self.calisma_saati}')\n",
    "        print(f'Saatlik ücret: {self.saatlik_ucret}')       \n",
    "        print(f'Yaş: {self.yas_hesaplama(2023)}')\n",
    "        print(f'Maaş: {self.maas_hesaplama()}')\n",
    "\n",
    "personel = Personel(4512487936, \"Gamze\", \"Çelik\", 2001, \"Data Engineer\", 40, 250)\n",
    "personel.bilgileri_goster()\n"
   ]
  },
  {
   "cell_type": "markdown",
   "metadata": {},
   "source": [
    "## INHERITANCE (KALITIM)"
   ]
  },
  {
   "cell_type": "markdown",
   "metadata": {},
   "source": [
    "\"Calisan\" adlı bir sınıf tanımlayın. Bu sınıfa \"ad\", \"soyad\", \"maas\" özellikleri ekleyin. Bu sınıfta bir \"calis\" metodunu tanımlayın, bu metod çalışanların işyerinde çalıştığını belirten bir çıktı versin"
   ]
  },
  {
   "cell_type": "code",
   "execution_count": 36,
   "metadata": {},
   "outputs": [
    {
     "name": "stdout",
     "output_type": "stream",
     "text": [
      "Gamze Çelik bu iş yerinde çalışıyor\n"
     ]
    }
   ],
   "source": [
    "class Calisan:\n",
    "    def __init__(self, ad, soyad, maas):\n",
    "        self.ad = ad\n",
    "        self.soyad = soyad\n",
    "        self.maas = maas\n",
    "    \n",
    "    def calis(self):\n",
    "        print(f\"{self.ad} {self.soyad} bu iş yerinde çalışıyor.\")\n",
    "\n",
    "calisan = Calisan(\"Gamze\", \"Çelik\", 8500)       \n",
    "calisan.calis()"
   ]
  },
  {
   "cell_type": "markdown",
   "metadata": {},
   "source": [
    "\"Mudur\" adlı bir alt sınıf tanımlayın. \n",
    "Bu sınıf, \"Calisan\" sınıfından miras alsın. \"\n",
    "Mudur\" sınıfı, \"Calisan\" sınıfında tanımlanan özelliklere ek olarak, \"departman\" ve \"sicil_no\" gibi özellikleri içersin. \n",
    "Bu sınıfta bir \"calis\" metodu tanımlayın, bu metod çalışanların işyerinde yönetici olarak çalıştığını belirten bir çıktı versin."
   ]
  },
  {
   "cell_type": "code",
   "execution_count": 39,
   "metadata": {},
   "outputs": [
    {
     "name": "stdout",
     "output_type": "stream",
     "text": [
      "Muhammet Erol bu iş yerinde yönetici olarak çalışıyor\n"
     ]
    }
   ],
   "source": [
    "class Calisan:\n",
    "    def __init__(self, ad, soyad, maas):\n",
    "        self.ad = ad\n",
    "        self.soyad = soyad\n",
    "        self.maas = maas  \n",
    "        \n",
    "class Mudur(Calisan):\n",
    "    def __init__(self, ad, soyad, maas, departman, sicil_no):\n",
    "        Calisan.__init__(self,ad, soyad, maas)\n",
    "        self.departman = departman\n",
    "        self.sicil_no = sicil_no\n",
    "        \n",
    "    def calis(self):\n",
    "        print(f\"{self.ad} {self.soyad} bu iş yerinde yönetici olarak çalışıyor.\")\n",
    "\n",
    "mudur=Mudur(\"Muhammet\",\"Erol\",25000,\"Yönetici\",12364349)\n",
    "mudur.calis()\n"
   ]
  },
  {
   "cell_type": "markdown",
   "metadata": {},
   "source": [
    "\"Isci\" adlı bir alt sınıf tanımlayın. Bu sınıf da \"Calisan\" sınıfından miras alsın. \n",
    "\"Isci\" sınıfı, \"Calisan\" sınıfında tanımlanan özelliklere ek olarak, \"bolum\" ve \"is_gunu_sayisi\" gibi özellikleri içersin. \n",
    "Bu sınıfta bir \"calis\" metodu tanımlayın, bu metod çalışanların işyerinde işçi olarak çalıştığını belirten bir çıktı versin."
   ]
  },
  {
   "cell_type": "code",
   "execution_count": 53,
   "metadata": {},
   "outputs": [
    {
     "name": "stdout",
     "output_type": "stream",
     "text": [
      "Yeliz Emin bu iş yerinde işçi olarak çalışıyor\n"
     ]
    }
   ],
   "source": [
    "class Calisan:\n",
    "    def __init__(self, ad, soyad, maas):\n",
    "        self.ad = ad\n",
    "        self.soyad = soyad\n",
    "        self.maas = maas  \n",
    "\n",
    "class Isci(Calisan):\n",
    "    \n",
    "    def __init__(self, ad, soyad, maas, bolum, is_gunu_sayisi):        \n",
    "        Calisan.__init__(self, ad, soyad, maas)\n",
    "        self.bolum=bolum\n",
    "        self.is_gunu_sayisi=is_gunu_sayisi                \n",
    "    \n",
    "    def calis(self):\n",
    "        print(f\"{self.ad} {self.soyad} bu iş yerinde işçi olarak çalışıyor.\")\n",
    "\n",
    "isci = Isci(\"Yeliz\", \"Emin\", 5500, \"Pazarlama\", 6)\n",
    "isci.calis()\n"
   ]
  },
  {
   "cell_type": "markdown",
   "metadata": {},
   "source": [
    "Calisan\", \"Mudur\" ve \"Isci\" sınıflarından birkaç örnek nesne oluşturun ve bu nesnelerin özelliklerini ve metodlarını çağırın. Örneğin, bir \"Mudur\" örneği oluşturun ve bu örneğin \"ad\", \"soyad\", \"departman\" ve \"sicil_no\" özelliklerini belirleyin. Ardından, \"calis\" metodunu çağırın ve bu yöneticinin işyerinde çalıştığını belirten bir çıktı alın."
   ]
  },
  {
   "cell_type": "code",
   "execution_count": 56,
   "metadata": {},
   "outputs": [
    {
     "name": "stdout",
     "output_type": "stream",
     "text": [
      "Mert Çelik bu iş yerinde çalışıyor\n",
      "********************************\n",
      "Nurseda Kösemen bu iş yerinde işçi olarak çalışıyor\n",
      "********************************\n",
      "Atıl Samancıoğlu bu iş yerinde yönetici olarak çalışıyor\n"
     ]
    }
   ],
   "source": [
    "class Calisan:\n",
    "    def __init__(self, ad, soyad, maas):\n",
    "        self.ad = ad\n",
    "        self.soyad = soyad\n",
    "        self.maas = maas\n",
    "    def bilgiler_goster(self):\n",
    "        print(f\"İsim: {self.ad}\")\n",
    "        print(f\"Soyisim: {self.soyad}\")        \n",
    "        print(f\"Maaş: {self.maas}\")       \n",
    "    def calis(self):\n",
    "        print(f\"{self.ad} {self.soyad} bu iş yerinde çalışıyor.\")    \n",
    "        \n",
    "#*********************************************************************************#       \n",
    "              \n",
    "class Isci(Calisan):\n",
    "    def __init__(self, ad, soyad, maas, bolum, is_gunu_sayisi):        \n",
    "        Calisan.__init__(self, ad, soyad, maas)\n",
    "        self.bolum = bolum\n",
    "        self.is_gunu_sayisi = is_gunu_sayisi\n",
    "                         \n",
    "    def calis(self):\n",
    "        print(f\"{self.ad} {self.soyad} bu iş yerinde işçi olarak çalışıyor.\")\n",
    "        \n",
    "#*********************************************************************************#\n",
    "\n",
    "class Mudur(Calisan):\n",
    "    def __init__(self, ad, soyad, maas, departman, sicil_no):\n",
    "        Calisan.__init__(self,ad, soyad, maas)\n",
    "        self.departman = departman\n",
    "        self.sicil_no = sicil_no\n",
    "\n",
    "    def calis(self):\n",
    "        print(f\"{self.ad} {self.soyad} bu iş yerinde yönetici olarak çalışıyor.\")        \n",
    "            \n",
    "#*********************************************************************************#\n",
    "        \n",
    "calisan=Calisan(\"Mert\",\"Çelik\",15000)\n",
    "\n",
    "calisan.calis()\n",
    "print(\"*\"*32)\n",
    "isci=Isci(\"Nurseda\",\"Kösemen\",8500,\"Muhasebe\",7)\n",
    "\n",
    "isci.calis()\n",
    "print(\"*\"*32)\n",
    "mudur=Mudur(\"Atıl\",\"Samancıoğlu\",30000,\"Yönetici\",465849303)\n",
    "mudur.calis()"
   ]
  },
  {
   "cell_type": "code",
   "execution_count": null,
   "metadata": {},
   "outputs": [],
   "source": []
  }
 ],
 "metadata": {
  "kernelspec": {
   "display_name": "Python 3 (ipykernel)",
   "language": "python",
   "name": "python3"
  },
  "language_info": {
   "codemirror_mode": {
    "name": "ipython",
    "version": 3
   },
   "file_extension": ".py",
   "mimetype": "text/x-python",
   "name": "python",
   "nbconvert_exporter": "python",
   "pygments_lexer": "ipython3",
   "version": "3.9.13"
  }
 },
 "nbformat": 4,
 "nbformat_minor": 2
}
