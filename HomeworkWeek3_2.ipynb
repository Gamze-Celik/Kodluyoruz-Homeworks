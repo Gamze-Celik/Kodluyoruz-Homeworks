{
 "cells": [
  {
   "cell_type": "markdown",
   "id": "229fb5e4",
   "metadata": {},
   "source": [
    "# 1 \n",
    "Enumerate methodunu araştırın ve aşağıdaki örneği enumerate methodu ile yapın."
   ]
  },
  {
   "cell_type": "code",
   "execution_count": 3,
   "id": "96f1c03c",
   "metadata": {
    "scrolled": true
   },
   "outputs": [
    {
     "name": "stdout",
     "output_type": "stream",
     "text": [
      "0. indexte bulunan meyve: elma\n",
      "1. indexte bulunan meyve: armut\n",
      "2. indexte bulunan meyve: muz\n",
      "3. indexte bulunan meyve: çilek\n",
      "4. indexte bulunan meyve: ayva\n"
     ]
    }
   ],
   "source": [
    "meyveler=[\"elma\",\"armut\",\"muz\",\"çilek\",\"ayva\"]\n",
    "\n",
    "for index in range(len(meyveler)):\n",
    "    print(\"{}. indexte bulunan meyve: {}\".format(index,meyveler[index]))"
   ]
  },
  {
   "cell_type": "code",
   "execution_count": 4,
   "id": "069a2d80",
   "metadata": {},
   "outputs": [
    {
     "name": "stdout",
     "output_type": "stream",
     "text": [
      "0. indexte bulunan meyve: elma\n",
      "1. indexte bulunan meyve: armut\n",
      "2. indexte bulunan meyve: muz\n",
      "3. indexte bulunan meyve: çilek\n",
      "4. indexte bulunan meyve: ayva\n"
     ]
    }
   ],
   "source": [
    "meyveler=[\"elma\",\"armut\",\"muz\",\"çilek\",\"ayva\"]\n",
    "\n",
    "for index, meyve in enumerate(meyveler, start=0):\n",
    "     print(\"{}. indexte bulunan meyve: {}\".format(index,meyve))"
   ]
  },
  {
   "cell_type": "markdown",
   "id": "853ffbe1",
   "metadata": {},
   "source": [
    "# 2\n",
    "Aşagıdaki listede bulunan string veri tipindeki öğeleri yeni_liste isimli değişkene ekleyin."
   ]
  },
  {
   "cell_type": "code",
   "execution_count": 5,
   "id": "cc8a78f7",
   "metadata": {},
   "outputs": [],
   "source": [
    "liste = [\"Python\",True,9,\"3\",8.4,\"Hi-Kod\",\"False\",4.7]"
   ]
  },
  {
   "cell_type": "code",
   "execution_count": 8,
   "id": "8469f083",
   "metadata": {},
   "outputs": [
    {
     "name": "stdout",
     "output_type": "stream",
     "text": [
      "['Python', '3', 'Hi-Kod', 'False']\n"
     ]
    }
   ],
   "source": [
    "liste = [\"Python\", True, 9, \"3\", 8.4, \"Hi-Kod\", \"False\", 4.7]\n",
    "yeni_liste = []\n",
    "\n",
    "for i in liste:\n",
    "    \n",
    "    if type(i)==str:\n",
    "        \n",
    "        yeni_liste.append(i)\n",
    "        \n",
    "print(yeni_liste)"
   ]
  },
  {
   "cell_type": "markdown",
   "id": "a4ca65a3",
   "metadata": {},
   "source": [
    "# 3\n",
    "- Bir sözlük oluşturalım ve bu sözlükte öğrencilerin isimleri ve Matematik,Fizik,Kimya notları tutulsun.\n",
    "- Kullanıcıdan isim ve ders ismi(Matematik,Fizik,Kimya) istensin ve bu bilgilere göre çıktı verilsin."
   ]
  },
  {
   "cell_type": "code",
   "execution_count": 20,
   "id": "044795b0",
   "metadata": {},
   "outputs": [
    {
     "name": "stdout",
     "output_type": "stream",
     "text": [
      "Öğrencinin adını giriniz: Gamze\n",
      "Notunu öğrenmek istediğiniz dersin adını girin (Matematik, Fizik ya da Kimya): Kimya\n",
      "Gamze adlı öğrencinin Kimya dersinden aldığı not: 80\n"
     ]
    }
   ],
   "source": [
    "ogrenci_bilgileri = {\"Gamze\": {\"Matematik\":45,\n",
    "                              \"Fizik\":70, \n",
    "                              \"Kimya\": 80},\n",
    "                    \n",
    "                     \"Can\": {\"Matematik\":60, \n",
    "                              \"Fizik\":80, \n",
    "                              \"Kimya\": 80},\n",
    "                     \n",
    "                     \"Mehmet\": {\"Matematik\":90,\n",
    "                               \"Fizik\":50, \n",
    "                               \"Kimya\": 90},\n",
    "                     \n",
    "                     \"Selin\": {\"Matematik\":75,\n",
    "                              \"Fizik\":75, \n",
    "                              \"Kimya\": 70}}\n",
    "\n",
    "ogrenci_adi = input(\"Öğrencinin adını giriniz: \")\n",
    "ders_adi = input(\"Notunu öğrenmek istediğiniz dersin adını girin (Matematik, Fizik ya da Kimya): \")\n",
    "\n",
    "if ogrenci_adi in ogrenci_bilgileri and ders_adi in ogrenci_bilgileri[ogrenci_adi]:\n",
    "    notu = ogrenci_bilgileri[ogrenci_adi][ders_adi]\n",
    "    print(f\"{ogrenci_adi} adlı öğrencinin {ders_adi} dersinden aldığı not: {notu}\")\n",
    "else:\n",
    "    print(\"Girdiğiniz bilgilere uygun bir öğrenci veya ders bulunmamaktadır!\")"
   ]
  },
  {
   "cell_type": "code",
   "execution_count": null,
   "id": "b1a5b85c",
   "metadata": {},
   "outputs": [],
   "source": []
  }
 ],
 "metadata": {
  "kernelspec": {
   "display_name": "Python 3 (ipykernel)",
   "language": "python",
   "name": "python3"
  },
  "language_info": {
   "codemirror_mode": {
    "name": "ipython",
    "version": 3
   },
   "file_extension": ".py",
   "mimetype": "text/x-python",
   "name": "python",
   "nbconvert_exporter": "python",
   "pygments_lexer": "ipython3",
   "version": "3.9.13"
  }
 },
 "nbformat": 4,
 "nbformat_minor": 5
}
