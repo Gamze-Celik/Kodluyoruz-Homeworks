{
 "cells": [
  {
   "cell_type": "markdown",
   "id": "a0f6364d",
   "metadata": {},
   "source": [
    "# 1\n",
    "\n",
    "Sayılardan oluşan bir boyutlu array oluşturun. Arrayi oluştururken sayıların veri tipini integer olarak belirtelim.\n",
    "\n",
    "Oluşturulan arrayin boyut, eleman sayısı bilgilerine bakalım."
   ]
  },
  {
   "cell_type": "code",
   "execution_count": 2,
   "id": "c16c30a6",
   "metadata": {},
   "outputs": [],
   "source": [
    "import numpy as np"
   ]
  },
  {
   "cell_type": "code",
   "execution_count": 10,
   "id": "ef0a7fdf",
   "metadata": {},
   "outputs": [
    {
     "data": {
      "text/plain": [
       "array([3, 5, 7, 9])"
      ]
     },
     "execution_count": 10,
     "metadata": {},
     "output_type": "execute_result"
    }
   ],
   "source": [
    "a=np.array([3,5,7,9], dtype=\"int\")\n",
    "a"
   ]
  },
  {
   "cell_type": "code",
   "execution_count": 15,
   "id": "6100a538",
   "metadata": {},
   "outputs": [
    {
     "data": {
      "text/plain": [
       "dtype('int32')"
      ]
     },
     "execution_count": 15,
     "metadata": {},
     "output_type": "execute_result"
    }
   ],
   "source": [
    "a.dtype"
   ]
  },
  {
   "cell_type": "code",
   "execution_count": 13,
   "id": "e3b655ad",
   "metadata": {},
   "outputs": [
    {
     "data": {
      "text/plain": [
       "1"
      ]
     },
     "execution_count": 13,
     "metadata": {},
     "output_type": "execute_result"
    }
   ],
   "source": [
    "a.ndim"
   ]
  },
  {
   "cell_type": "code",
   "execution_count": 14,
   "id": "40130185",
   "metadata": {},
   "outputs": [
    {
     "data": {
      "text/plain": [
       "4"
      ]
     },
     "execution_count": 14,
     "metadata": {},
     "output_type": "execute_result"
    }
   ],
   "source": [
    "a.size"
   ]
  },
  {
   "cell_type": "markdown",
   "id": "d28497a8",
   "metadata": {},
   "source": [
    "# 2\n",
    "İki ve üç boyutlu arrayler oluşturalım. Bu arraylerin boyut, eleman sayısı, satır, sütun bilgilerine ulaşalım. \n",
    "\n",
    "Arrayler üzerinde indexleme ve dilimleme(slicing) işlemi yapalım."
   ]
  },
  {
   "cell_type": "code",
   "execution_count": 20,
   "id": "fd4644a9",
   "metadata": {},
   "outputs": [
    {
     "data": {
      "text/plain": [
       "array([[2, 4, 6],\n",
       "       [1, 2, 3]])"
      ]
     },
     "execution_count": 20,
     "metadata": {},
     "output_type": "execute_result"
    }
   ],
   "source": [
    "array2= np.array([[2,4,6],[1,2,3]])\n",
    "array2"
   ]
  },
  {
   "cell_type": "code",
   "execution_count": 21,
   "id": "129386e5",
   "metadata": {},
   "outputs": [
    {
     "data": {
      "text/plain": [
       "array([[[1, 2, 3],\n",
       "        [4, 5, 6]],\n",
       "\n",
       "       [[7, 8, 9],\n",
       "        [3, 2, 1]]])"
      ]
     },
     "execution_count": 21,
     "metadata": {},
     "output_type": "execute_result"
    }
   ],
   "source": [
    "array3=np.array([[[1,2,3],[4,5,6]],\n",
    "                [[7,8,9],[3,2,1]]])\n",
    "array3"
   ]
  },
  {
   "cell_type": "code",
   "execution_count": 22,
   "id": "8975f329",
   "metadata": {},
   "outputs": [
    {
     "data": {
      "text/plain": [
       "2"
      ]
     },
     "execution_count": 22,
     "metadata": {},
     "output_type": "execute_result"
    }
   ],
   "source": [
    "array2.ndim"
   ]
  },
  {
   "cell_type": "code",
   "execution_count": 23,
   "id": "4cf64b72",
   "metadata": {},
   "outputs": [
    {
     "data": {
      "text/plain": [
       "3"
      ]
     },
     "execution_count": 23,
     "metadata": {},
     "output_type": "execute_result"
    }
   ],
   "source": [
    "array3.ndim"
   ]
  },
  {
   "cell_type": "code",
   "execution_count": 24,
   "id": "5b6035ff",
   "metadata": {},
   "outputs": [
    {
     "data": {
      "text/plain": [
       "6"
      ]
     },
     "execution_count": 24,
     "metadata": {},
     "output_type": "execute_result"
    }
   ],
   "source": [
    "array2.size"
   ]
  },
  {
   "cell_type": "code",
   "execution_count": 25,
   "id": "0333abf1",
   "metadata": {},
   "outputs": [
    {
     "data": {
      "text/plain": [
       "12"
      ]
     },
     "execution_count": 25,
     "metadata": {},
     "output_type": "execute_result"
    }
   ],
   "source": [
    "array3.size"
   ]
  },
  {
   "cell_type": "code",
   "execution_count": 27,
   "id": "1154c36c",
   "metadata": {},
   "outputs": [
    {
     "data": {
      "text/plain": [
       "(2, 3)"
      ]
     },
     "execution_count": 27,
     "metadata": {},
     "output_type": "execute_result"
    }
   ],
   "source": [
    "np.shape(array2)"
   ]
  },
  {
   "cell_type": "code",
   "execution_count": 28,
   "id": "ce38b2e4",
   "metadata": {},
   "outputs": [
    {
     "data": {
      "text/plain": [
       "(2, 2, 3)"
      ]
     },
     "execution_count": 28,
     "metadata": {},
     "output_type": "execute_result"
    }
   ],
   "source": [
    "np.shape(array3)"
   ]
  },
  {
   "cell_type": "code",
   "execution_count": 33,
   "id": "08977b0e",
   "metadata": {},
   "outputs": [
    {
     "data": {
      "text/plain": [
       "2"
      ]
     },
     "execution_count": 33,
     "metadata": {},
     "output_type": "execute_result"
    }
   ],
   "source": [
    "array2[1,1]"
   ]
  },
  {
   "cell_type": "code",
   "execution_count": 35,
   "id": "3399809c",
   "metadata": {},
   "outputs": [
    {
     "data": {
      "text/plain": [
       "array([6, 3])"
      ]
     },
     "execution_count": 35,
     "metadata": {},
     "output_type": "execute_result"
    }
   ],
   "source": [
    "array2[0:2,2]"
   ]
  },
  {
   "cell_type": "code",
   "execution_count": 38,
   "id": "ce511d72",
   "metadata": {},
   "outputs": [
    {
     "data": {
      "text/plain": [
       "9"
      ]
     },
     "execution_count": 38,
     "metadata": {},
     "output_type": "execute_result"
    }
   ],
   "source": [
    "array3[1,0,2]"
   ]
  },
  {
   "cell_type": "code",
   "execution_count": 40,
   "id": "09876453",
   "metadata": {},
   "outputs": [
    {
     "data": {
      "text/plain": [
       "array([3, 2, 1])"
      ]
     },
     "execution_count": 40,
     "metadata": {},
     "output_type": "execute_result"
    }
   ],
   "source": [
    "array3[1,1,0:3]"
   ]
  },
  {
   "cell_type": "markdown",
   "id": "9c5594e8",
   "metadata": {},
   "source": [
    "# 3\n",
    "\n",
    "Numpy fonksiyonu kullanarak bir, iki ve üç boyutlu arrayler oluşturalım. Arrayler üzerinde indexleme ve dilimleme(slicing) işlemi yapalım."
   ]
  },
  {
   "cell_type": "code",
   "execution_count": 12,
   "id": "e905f102",
   "metadata": {},
   "outputs": [
    {
     "name": "stdout",
     "output_type": "stream",
     "text": [
      "4\n",
      "[3 4 5]\n",
      "[1 3 5]\n",
      "\n",
      "\n",
      "5\n",
      "2\n",
      "[[4 5 6]\n",
      " [7 8 9]]\n",
      "\n",
      "\n",
      "[[10 11 12]\n",
      " [13 14 15]\n",
      " [16 17 18]]\n",
      "[4 5 6]\n",
      "[[ 6  5  4]\n",
      " [15 14 13]\n",
      " [24 23 22]]\n"
     ]
    }
   ],
   "source": [
    "array1d = np.array([1, 2, 3, 4, 5])\n",
    "\n",
    "\n",
    "array2d = np.array([[1, 2, 3],\n",
    "                     [4, 5, 6],\n",
    "                     [7, 8, 9]])\n",
    "\n",
    "\n",
    "array3d = np.array([[[1, 2, 3],\n",
    "                      [4, 5, 6],\n",
    "                      [7, 8, 9]],\n",
    "                     \n",
    "                     [[10, 11, 12],\n",
    "                      [13, 14, 15],\n",
    "                      [16, 17, 18]],\n",
    "                     \n",
    "                     [[19, 20, 21],\n",
    "                      [22, 23, 24],\n",
    "                      [25, 26, 27]]])\n",
    "\n",
    "\n",
    "# 1D için\n",
    "print(array1d[3])\n",
    "print(array1d[2:5])\n",
    "print(array1d[::2]) \n",
    "print(\"\\n\")\n",
    "\n",
    "#2D için\n",
    "print(array1d[4])\n",
    "print(array2d[0, 1])\n",
    "print(array2d[1:,:3])\n",
    "print(\"\\n\")\n",
    "\n",
    "#3D için\n",
    "print(array3d[1])\n",
    "print(array3d[0, 1])\n",
    "print(array3d[:3, 1, ::-1])"
   ]
  },
  {
   "cell_type": "markdown",
   "id": "66d2aab8",
   "metadata": {},
   "source": [
    "# 4\n",
    "\n",
    "Sıfırlardan oluşan ve birlerden oluşan iki tane iki boyutlu array oluşturalım. Bu arrayleri satır ve sütun bazında birleştirelim."
   ]
  },
  {
   "cell_type": "code",
   "execution_count": 3,
   "id": "3b05fe01",
   "metadata": {},
   "outputs": [
    {
     "name": "stdout",
     "output_type": "stream",
     "text": [
      "[[0 0 0]\n",
      " [0 0 0]\n",
      " [0 0 0]]\n"
     ]
    }
   ],
   "source": [
    "a=np.zeros((3,3),dtype=\"int\")\n",
    "print(a)"
   ]
  },
  {
   "cell_type": "code",
   "execution_count": 4,
   "id": "11209c58",
   "metadata": {},
   "outputs": [
    {
     "name": "stdout",
     "output_type": "stream",
     "text": [
      "[[1 1 1]\n",
      " [1 1 1]\n",
      " [1 1 1]]\n"
     ]
    }
   ],
   "source": [
    "b=np.ones((3,3),dtype=\"int\")\n",
    "print(b)"
   ]
  },
  {
   "cell_type": "code",
   "execution_count": 5,
   "id": "58a386cd",
   "metadata": {},
   "outputs": [
    {
     "data": {
      "text/plain": [
       "array([[0, 0, 0],\n",
       "       [0, 0, 0],\n",
       "       [0, 0, 0],\n",
       "       [1, 1, 1],\n",
       "       [1, 1, 1],\n",
       "       [1, 1, 1]])"
      ]
     },
     "execution_count": 5,
     "metadata": {},
     "output_type": "execute_result"
    }
   ],
   "source": [
    "np.concatenate((a,b),axis=0)"
   ]
  },
  {
   "cell_type": "code",
   "execution_count": 6,
   "id": "5999a57b",
   "metadata": {},
   "outputs": [
    {
     "data": {
      "text/plain": [
       "array([[0, 0, 0, 1, 1, 1],\n",
       "       [0, 0, 0, 1, 1, 1],\n",
       "       [0, 0, 0, 1, 1, 1]])"
      ]
     },
     "execution_count": 6,
     "metadata": {},
     "output_type": "execute_result"
    }
   ],
   "source": [
    "np.concatenate((a,b),axis=1)\n"
   ]
  },
  {
   "cell_type": "code",
   "execution_count": null,
   "id": "86227fc1",
   "metadata": {},
   "outputs": [],
   "source": []
  }
 ],
 "metadata": {
  "kernelspec": {
   "display_name": "Python 3 (ipykernel)",
   "language": "python",
   "name": "python3"
  },
  "language_info": {
   "codemirror_mode": {
    "name": "ipython",
    "version": 3
   },
   "file_extension": ".py",
   "mimetype": "text/x-python",
   "name": "python",
   "nbconvert_exporter": "python",
   "pygments_lexer": "ipython3",
   "version": "3.9.13"
  }
 },
 "nbformat": 4,
 "nbformat_minor": 5
}
