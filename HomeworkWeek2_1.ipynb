{
 "cells": [
  {
   "cell_type": "markdown",
   "id": "27d09a2a",
   "metadata": {},
   "source": [
    "**Exercise 1**"
   ]
  },
  {
   "cell_type": "code",
   "execution_count": 33,
   "id": "86835333",
   "metadata": {},
   "outputs": [
    {
     "data": {
      "text/plain": [
       "float"
      ]
     },
     "execution_count": 33,
     "metadata": {},
     "output_type": "execute_result"
    }
   ],
   "source": [
    "x = float(3)\n",
    "type(x)"
   ]
  },
  {
   "cell_type": "code",
   "execution_count": 34,
   "id": "51b13598",
   "metadata": {},
   "outputs": [
    {
     "data": {
      "text/plain": [
       "int"
      ]
     },
     "execution_count": 34,
     "metadata": {},
     "output_type": "execute_result"
    }
   ],
   "source": [
    "y = int(4.5)\n",
    "type(y)"
   ]
  },
  {
   "cell_type": "code",
   "execution_count": 35,
   "id": "9d06c6a8",
   "metadata": {},
   "outputs": [
    {
     "data": {
      "text/plain": [
       "int"
      ]
     },
     "execution_count": 35,
     "metadata": {},
     "output_type": "execute_result"
    }
   ],
   "source": [
    "z = int(\"8\") \n",
    "type(z)"
   ]
  },
  {
   "cell_type": "code",
   "execution_count": 36,
   "id": "2d31ed18",
   "metadata": {},
   "outputs": [
    {
     "data": {
      "text/plain": [
       "float"
      ]
     },
     "execution_count": 36,
     "metadata": {},
     "output_type": "execute_result"
    }
   ],
   "source": [
    "a = float(\"12\")\n",
    "type(a)"
   ]
  },
  {
   "cell_type": "code",
   "execution_count": 37,
   "id": "482329cc",
   "metadata": {},
   "outputs": [
    {
     "data": {
      "text/plain": [
       "int"
      ]
     },
     "execution_count": 37,
     "metadata": {},
     "output_type": "execute_result"
    }
   ],
   "source": [
    "b = float(\"46.8\")\n",
    "b = int(b)\n",
    "type(b)"
   ]
  },
  {
   "cell_type": "code",
   "execution_count": 11,
   "id": "8e48f650",
   "metadata": {},
   "outputs": [],
   "source": [
    "#String bir float değer int() fonksiyonu ile dönüşmez."
   ]
  },
  {
   "cell_type": "markdown",
   "id": "242f1386",
   "metadata": {},
   "source": [
    "**Exersice 2**"
   ]
  },
  {
   "cell_type": "code",
   "execution_count": 16,
   "id": "17cfb88b",
   "metadata": {},
   "outputs": [],
   "source": [
    "gamze = 22\n",
    "atilla = 29\n",
    "ayşe = 19"
   ]
  },
  {
   "cell_type": "code",
   "execution_count": 17,
   "id": "e11d1cf5",
   "metadata": {},
   "outputs": [
    {
     "data": {
      "text/plain": [
       "False"
      ]
     },
     "execution_count": 17,
     "metadata": {},
     "output_type": "execute_result"
    }
   ],
   "source": [
    "22 == 29"
   ]
  },
  {
   "cell_type": "code",
   "execution_count": 19,
   "id": "bdfb5fbf",
   "metadata": {},
   "outputs": [
    {
     "data": {
      "text/plain": [
       "True"
      ]
     },
     "execution_count": 19,
     "metadata": {},
     "output_type": "execute_result"
    }
   ],
   "source": [
    "22 != 19"
   ]
  },
  {
   "cell_type": "code",
   "execution_count": 20,
   "id": "c2823101",
   "metadata": {},
   "outputs": [
    {
     "data": {
      "text/plain": [
       "True"
      ]
     },
     "execution_count": 20,
     "metadata": {},
     "output_type": "execute_result"
    }
   ],
   "source": [
    "22 > 19"
   ]
  },
  {
   "cell_type": "code",
   "execution_count": 21,
   "id": "61ba2f4c",
   "metadata": {},
   "outputs": [
    {
     "data": {
      "text/plain": [
       "False"
      ]
     },
     "execution_count": 21,
     "metadata": {},
     "output_type": "execute_result"
    }
   ],
   "source": [
    "29 < 22"
   ]
  },
  {
   "cell_type": "code",
   "execution_count": 22,
   "id": "a5a2de12",
   "metadata": {},
   "outputs": [
    {
     "data": {
      "text/plain": [
       "True"
      ]
     },
     "execution_count": 22,
     "metadata": {},
     "output_type": "execute_result"
    }
   ],
   "source": [
    "22 >= 19"
   ]
  },
  {
   "cell_type": "code",
   "execution_count": 23,
   "id": "630a96ed",
   "metadata": {},
   "outputs": [
    {
     "data": {
      "text/plain": [
       "False"
      ]
     },
     "execution_count": 23,
     "metadata": {},
     "output_type": "execute_result"
    }
   ],
   "source": [
    "29 <= 22"
   ]
  },
  {
   "cell_type": "code",
   "execution_count": 3,
   "id": "56e6cdff",
   "metadata": {},
   "outputs": [],
   "source": [
    "x=20"
   ]
  },
  {
   "cell_type": "code",
   "execution_count": 4,
   "id": "9b0b0510",
   "metadata": {},
   "outputs": [
    {
     "data": {
      "text/plain": [
       "True"
      ]
     },
     "execution_count": 4,
     "metadata": {},
     "output_type": "execute_result"
    }
   ],
   "source": [
    " x < 22 and x < 29"
   ]
  },
  {
   "cell_type": "code",
   "execution_count": 5,
   "id": "aabe0a82",
   "metadata": {},
   "outputs": [
    {
     "data": {
      "text/plain": [
       "True"
      ]
     },
     "execution_count": 5,
     "metadata": {},
     "output_type": "execute_result"
    }
   ],
   "source": [
    "x < 29 or x < 19 "
   ]
  },
  {
   "cell_type": "code",
   "execution_count": 6,
   "id": "ca88a4f8",
   "metadata": {},
   "outputs": [
    {
     "data": {
      "text/plain": [
       "True"
      ]
     },
     "execution_count": 6,
     "metadata": {},
     "output_type": "execute_result"
    }
   ],
   "source": [
    "not(x < 19 and x < 22)"
   ]
  },
  {
   "cell_type": "markdown",
   "id": "ab943e33",
   "metadata": {},
   "source": [
    "**Excercise 3**"
   ]
  },
  {
   "cell_type": "code",
   "execution_count": 31,
   "id": "31b147bd",
   "metadata": {},
   "outputs": [
    {
     "name": "stdout",
     "output_type": "stream",
     "text": [
      "sayi1: 6\n",
      "sayi2 9\n"
     ]
    }
   ],
   "source": [
    "sayi1 = int(input(\"sayi1: \"))\n",
    "sayi2 = int(input(\"sayi2 \"))"
   ]
  },
  {
   "cell_type": "code",
   "execution_count": 32,
   "id": "0cb14c1a",
   "metadata": {},
   "outputs": [
    {
     "name": "stdout",
     "output_type": "stream",
     "text": [
      "toplam 15\n",
      "çıkarma -3\n",
      "çarpma 54\n",
      "bölme 0\n"
     ]
    }
   ],
   "source": [
    "toplam = int(sayi1 + sayi2)\n",
    "çıkarma = int(sayi1 - sayi2)\n",
    "çarpma = int(sayi1*sayi2)\n",
    "bölme = int(sayi1/sayi2)\n",
    "print(\"toplam\", toplam)\n",
    "print(\"çıkarma\", çıkarma)\n",
    "print(\"çarpma\", çarpma)\n",
    "print(\"bölme\", bölme)"
   ]
  },
  {
   "cell_type": "markdown",
   "id": "67a5fe10",
   "metadata": {},
   "source": [
    "**Excercise 4**"
   ]
  },
  {
   "cell_type": "code",
   "execution_count": 16,
   "id": "04030223",
   "metadata": {},
   "outputs": [
    {
     "name": "stdout",
     "output_type": "stream",
     "text": [
      "Adınız:Gamze\n",
      "Gamze\n"
     ]
    }
   ],
   "source": [
    "isim = input(\"Adınız:\")\n",
    "print(isim)"
   ]
  },
  {
   "cell_type": "code",
   "execution_count": 27,
   "id": "5e25f09d",
   "metadata": {},
   "outputs": [
    {
     "name": "stdout",
     "output_type": "stream",
     "text": [
      "Yaşiniz: 22\n",
      "22\n"
     ]
    }
   ],
   "source": [
    "yas = input(\"Yaşiniz: \")\n",
    "print(yas)"
   ]
  },
  {
   "cell_type": "code",
   "execution_count": 28,
   "id": "dd99f47b",
   "metadata": {},
   "outputs": [
    {
     "name": "stdout",
     "output_type": "stream",
     "text": [
      "Şehriniz: Sakarya\n",
      "Sakarya\n"
     ]
    }
   ],
   "source": [
    "sehir = input(\"Şehriniz: \")\n",
    "print(sehir)"
   ]
  },
  {
   "cell_type": "code",
   "execution_count": 29,
   "id": "ad35eb10",
   "metadata": {},
   "outputs": [
    {
     "name": "stdout",
     "output_type": "stream",
     "text": [
      "Mesleğiniz: Öğrenci\n",
      "Öğrenci\n"
     ]
    }
   ],
   "source": [
    "meslek = input(\"Mesleğiniz: \")\n",
    "print(meslek)"
   ]
  },
  {
   "cell_type": "code",
   "execution_count": 30,
   "id": "30d53d47",
   "metadata": {},
   "outputs": [
    {
     "name": "stdout",
     "output_type": "stream",
     "text": [
      "isim:  Gamze\n",
      "yas:  22\n",
      "sehir:  Sakarya\n",
      "meslek:  Öğrenci\n"
     ]
    }
   ],
   "source": [
    "print(\"isim: \", isim)\n",
    "print(\"yas: \", yas)\n",
    "print(\"sehir: \", sehir)\n",
    "print(\"meslek: \", meslek)"
   ]
  },
  {
   "cell_type": "markdown",
   "id": "076f69e8",
   "metadata": {},
   "source": [
    "**Excersice 5**"
   ]
  },
  {
   "cell_type": "code",
   "execution_count": 22,
   "id": "07cad461",
   "metadata": {},
   "outputs": [
    {
     "data": {
      "text/plain": [
       "'Hi-Kod Veri Bilimi Atölyesi'"
      ]
     },
     "execution_count": 22,
     "metadata": {},
     "output_type": "execute_result"
    }
   ],
   "source": [
    "atolye = \"Hi-Kod Veri Bilimi Atölyesi\"\n",
    "atolye"
   ]
  },
  {
   "cell_type": "code",
   "execution_count": 23,
   "id": "fbbc3f46",
   "metadata": {},
   "outputs": [
    {
     "data": {
      "text/plain": [
       "['Hi-Kod', 'Veri', 'Bilimi', 'Atölyesi']"
      ]
     },
     "execution_count": 23,
     "metadata": {},
     "output_type": "execute_result"
    }
   ],
   "source": [
    "atolye.split()"
   ]
  },
  {
   "cell_type": "code",
   "execution_count": 24,
   "id": "55c120ac",
   "metadata": {},
   "outputs": [
    {
     "data": {
      "text/plain": [
       "'HI-KOD VERI BILIMI ATÖLYESI'"
      ]
     },
     "execution_count": 24,
     "metadata": {},
     "output_type": "execute_result"
    }
   ],
   "source": [
    "atolye.upper()"
   ]
  },
  {
   "cell_type": "code",
   "execution_count": 25,
   "id": "bfdbcbdf",
   "metadata": {},
   "outputs": [
    {
     "data": {
      "text/plain": [
       "'hi-kod veri bilimi atölyesi'"
      ]
     },
     "execution_count": 25,
     "metadata": {},
     "output_type": "execute_result"
    }
   ],
   "source": [
    "atolye.lower()"
   ]
  },
  {
   "cell_type": "code",
   "execution_count": 26,
   "id": "da5fc2b7",
   "metadata": {},
   "outputs": [
    {
     "name": "stdout",
     "output_type": "stream",
     "text": [
      "02468\n",
      "13579\n"
     ]
    }
   ],
   "source": [
    "sayilar = \"0123456789\"\n",
    "\n",
    "cift_sayilar = ''.join(sayi for sayi in sayilar if int(sayi) % 2 == 0)\n",
    "print(cift_sayilar)\n",
    "\n",
    "tek_sayilar = ''.join(sayi for sayi in sayilar if int(sayi) % 2 == 1)\n",
    "print(tek_sayilar)\n"
   ]
  },
  {
   "cell_type": "code",
   "execution_count": null,
   "id": "37cde3d4",
   "metadata": {},
   "outputs": [],
   "source": []
  }
 ],
 "metadata": {
  "kernelspec": {
   "display_name": "Python 3 (ipykernel)",
   "language": "python",
   "name": "python3"
  },
  "language_info": {
   "codemirror_mode": {
    "name": "ipython",
    "version": 3
   },
   "file_extension": ".py",
   "mimetype": "text/x-python",
   "name": "python",
   "nbconvert_exporter": "python",
   "pygments_lexer": "ipython3",
   "version": "3.9.13"
  }
 },
 "nbformat": 4,
 "nbformat_minor": 5
}
