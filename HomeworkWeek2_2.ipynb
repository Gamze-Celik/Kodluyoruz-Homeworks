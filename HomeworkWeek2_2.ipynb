{
 "cells": [
  {
   "cell_type": "markdown",
   "id": "ff87c8f7",
   "metadata": {},
   "source": [
    "# 1\n",
    "Kullanıcıdan maaş bilgisini isteyelim ve bu bilgiye göre maaşından ne kadar vergi kesileceğini hesaplayalım. (Oluşturulan vergi sistemi hayal ürünüdür :D)\n",
    "Kullanıcının geliri;\n",
    "- 10000 ve altındaysa maaşından %5 kesinti olsun.\n",
    "- 25000 ve altındaysa maaşından %10 kesinti olsun.\n",
    "- 45000 ve altındaysa maaşından %25 kesinti olsun.\n",
    "- Diğer koşullarda %30 kesinti olsun.\n",
    "\n",
    "Bu durumlara göre kullanıcının yeni maaşını yazdıralım."
   ]
  },
  {
   "cell_type": "code",
   "execution_count": 2,
   "id": "a6da3ea9",
   "metadata": {},
   "outputs": [
    {
     "name": "stdout",
     "output_type": "stream",
     "text": [
      "Lütfen maaş bilginizi giriniz: 8500\n",
      "Maaşınızdan 425.0 TL kesinti olmuştur. Toplam geliriniz 8075.0 TL dir.\n"
     ]
    }
   ],
   "source": [
    "maas=int(input(\"Lütfen maaş bilginizi giriniz: \"))\n",
    "\n",
    "if maas<=10000:\n",
    "    vergi_kesintisi=maas*0.05\n",
    "elif maas <= 25000:\n",
    "    vergi_kesintisi=maas*0.10\n",
    "elif maas <= 45000:\n",
    "    vergi_kesintisi=maas*0.25\n",
    "else:\n",
    "    vergi_kesintisi=maas*0.30\n",
    "   \n",
    "toplam_gelir=maas-vergi_kesintisi\n",
    "\n",
    "print(f\"Maaşınızdan {vergi_kesintisi} TL kesinti olmuştur. Toplam geliriniz {toplam_gelir} TL dir.\")"
   ]
  },
  {
   "cell_type": "markdown",
   "id": "77370310",
   "metadata": {},
   "source": [
    "# 2\n",
    "Kullanıcıdan kullanıcı adı ve şifre oluşturmasını isteyin. Şifrenin uzunluğu altı haneye ulaşmışsa hesabınız oluşturuldu mesajı alsın, altı haneden azsa altı haneli şifre oluşturması gerektiğinin mesajını alsın.(Sadece koşul kullanmanız yeterli.)"
   ]
  },
  {
   "cell_type": "code",
   "execution_count": 9,
   "id": "61ddc038",
   "metadata": {},
   "outputs": [
    {
     "name": "stdout",
     "output_type": "stream",
     "text": [
      "Kullanıcı adınız: gamze\n",
      "Şifreniz: 123456\n",
      "Hesabınız oluşturuldu!\n"
     ]
    }
   ],
   "source": [
    "ad=input(\"Kullanıcı adınız: \")\n",
    "sifre=(input(\"Şifreniz: \"))\n",
    "\n",
    "if len(sifre)==6:\n",
    "    print(\"Hesabınız oluşturuldu!\")\n",
    "else:\n",
    "    print(\"Lütfen altı haneli şifre giriniz!\")"
   ]
  },
  {
   "cell_type": "markdown",
   "id": "fd529538",
   "metadata": {},
   "source": [
    "# 3\n",
    "Bir önceki örneği geliştiriyoruz. \n",
    "\n",
    "- Kullanıcı girdiği şifre 5 ve 10 hane arasında olmak zorunda olsun. \n",
    "- Eğer bu koşula uyuyorsa \"Hesabınız oluşturuldu.\" mesajı alsın\n",
    "- Koşulu sağlamıyorsa \"Lütfen girdiniz şifre 5 haneden az 1 haneden fazla olmasın!\" uyarısı alsın.\n",
    "- Bunu oluştururken kullanıcı istediğimiz şartlarda şifre oluşturuna kadar sormaya devam etsin."
   ]
  },
  {
   "cell_type": "code",
   "execution_count": 1,
   "id": "b882e6f9",
   "metadata": {},
   "outputs": [
    {
     "name": "stdout",
     "output_type": "stream",
     "text": [
      "Kullanıcı adınız: gamze01!\n",
      "Şifreniz: gamzeusısjskl\n",
      "Lütfen girdiğiniz şifre 5 haneden az 10 haneden fazla olmasın!\n",
      "Şifreniz: gamze\n",
      "Hesabınız oluşturuldu!\n"
     ]
    }
   ],
   "source": [
    "ad=input(\"Kullanıcı adınız: \")\n",
    "\n",
    "while True:\n",
    "    sifre=(input(\"Şifreniz: \"))\n",
    "    if 5<=len(sifre)<=10:\n",
    "        print(\"Hesabınız oluşturuldu!\")\n",
    "        break\n",
    "    else:\n",
    "        print(\"Lütfen girdiğiniz şifre 5 haneden az 10 haneden fazla olmasın!\")\n",
    "        "
   ]
  },
  {
   "cell_type": "markdown",
   "id": "2fd0417d",
   "metadata": {},
   "source": [
    "# 4\n",
    "- Kullanıcıdan isim ve şifre isteyeceğiz ve şifre girişi için üç hak vereceğiz. \n",
    "- Eğer önceden tanımlı şifre ile kullanıdan gelen şifre aynıysa \"Giriş yapıldı.\" yazsın. \n",
    "- Şifre girişi yanlışşa \"Yanlış şifre girildi!\" uyarısı verilsin ve üç yanlış denemede program bitsin.\n",
    "- Tercihe göre kalan hak bilgisi verilsin"
   ]
  },
  {
   "cell_type": "code",
   "execution_count": 3,
   "id": "41d69a99",
   "metadata": {},
   "outputs": [
    {
     "name": "stdout",
     "output_type": "stream",
     "text": [
      "Kullanıcı adınızı giriniz: gamze01!\n",
      "Şifrenizi giriniz: gamze123\n",
      "Yanlış şifre girildi!\n",
      "2 hakkınız kaldı!\n",
      "Şifrenizi giriniz: gamze\n",
      "Yanlış şifre girildi!\n",
      "1 hakkınız kaldı!\n",
      "Şifrenizi giriniz: Gmz123\n",
      "Giriş başarılı!\n"
     ]
    }
   ],
   "source": [
    "ad=input(\"Kullanıcı adınızı giriniz: \")\n",
    "tanımlı_sifre=\"Gmz123\"\n",
    "sayac=3\n",
    "for i in range(3):\n",
    "    sifre=input(\"Şifrenizi giriniz: \")\n",
    "    if tanımlı_sifre==sifre:\n",
    "        print(\"Giriş başarılı!\")\n",
    "        break\n",
    "    else:\n",
    "        print(\"Yanlış şifre girildi!\")\n",
    "        sayac=sayac-1\n",
    "        print(sayac ,\"hakkınız kaldı!\")"
   ]
  },
  {
   "cell_type": "code",
   "execution_count": null,
   "id": "597072a8",
   "metadata": {},
   "outputs": [],
   "source": []
  }
 ],
 "metadata": {
  "kernelspec": {
   "display_name": "Python 3 (ipykernel)",
   "language": "python",
   "name": "python3"
  },
  "language_info": {
   "codemirror_mode": {
    "name": "ipython",
    "version": 3
   },
   "file_extension": ".py",
   "mimetype": "text/x-python",
   "name": "python",
   "nbconvert_exporter": "python",
   "pygments_lexer": "ipython3",
   "version": "3.9.13"
  }
 },
 "nbformat": 4,
 "nbformat_minor": 5
}
